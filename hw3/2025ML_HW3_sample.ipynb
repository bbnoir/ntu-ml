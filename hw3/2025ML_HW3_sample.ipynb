{
 "cells": [
  {
   "cell_type": "markdown",
   "metadata": {
    "id": "opTIkC9Ct_YS"
   },
   "source": [
    "# ML HW3 Sample Code\n",
    "TODO:\n",
    " - Design your AutoEncoder model\n",
    " - Pre-train with unlabelled data\n",
    "    - Augmentation\n",
    " - Fine-tune with labelled data\n",
    "    - Augmentation\n",
    "    - Loss function\n",
    "\n",
    "Report:\n",
    " - Clustering\n",
    "    - Implement Equilibrium K-means algorithm\n",
    "    - t-SNE : Show the embedding of different classes\n",
    " - Anomaly detection\n",
    "    - Reconstruct unseen classes"
   ]
  },
  {
   "cell_type": "markdown",
   "metadata": {
    "id": "iun98ffpt_YW"
   },
   "source": [
    "## Download data"
   ]
  },
  {
   "cell_type": "code",
   "execution_count": 102,
   "metadata": {
    "id": "OA-FU0ZkuOov"
   },
   "outputs": [],
   "source": [
    "# !gdown 1Bw1ksB6AkTICynIHHkG7NKAdf3sBI1uR\n",
    "# !gdown 1kO12YQxqGFLbY3WiskJyYG7S-hiPae24\n",
    "# !unzip -q 'hw3.zip'"
   ]
  },
  {
   "cell_type": "markdown",
   "metadata": {
    "id": "JLz0hckrt_YX"
   },
   "source": [
    "## Import packages"
   ]
  },
  {
   "cell_type": "code",
   "execution_count": 103,
   "metadata": {
    "id": "8nGkJNjLt_YX"
   },
   "outputs": [],
   "source": [
    "import os\n",
    "import random\n",
    "import csv\n",
    "import torch\n",
    "import torch.nn as nn\n",
    "import torch.nn.functional as F\n",
    "import numpy as np\n",
    "import pandas as pd\n",
    "import torchvision as tv\n",
    "\n",
    "import torchvision.transforms as T\n",
    "import matplotlib.pyplot as plt\n",
    "\n",
    "from torch.cuda import amp\n",
    "from torch.utils.data import Dataset, DataLoader\n",
    "from PIL import Image\n",
    "from argparse import Namespace\n",
    "from tqdm import tqdm\n",
    "\n"
   ]
  },
  {
   "cell_type": "markdown",
   "metadata": {
    "id": "UoqTwBLpt_YZ"
   },
   "source": [
    "## Datasets and Dataloaders"
   ]
  },
  {
   "cell_type": "code",
   "execution_count": 104,
   "metadata": {
    "id": "6nMN8TwRt_Ya"
   },
   "outputs": [],
   "source": [
    "def load_unlabelled(img_dir):\n",
    "    return  [ Image.open(os.path.join(img_dir, str(i)+'.jpg')) for i in range(len(os.listdir(img_dir))) ]\n",
    "\n",
    "\n",
    "def load_labelled(root_dir):\n",
    "    data = []\n",
    "    labels = []\n",
    "    for label in os.listdir(root_dir):\n",
    "        for img in os.listdir(os.path.join(root_dir, label)):\n",
    "            img = Image.open(os.path.join(root_dir, label, img))\n",
    "            data.append(img)\n",
    "            labels.append(int(label))\n",
    "    return [*zip(data, labels)]\n",
    "\n",
    "class ImageDataset(Dataset):\n",
    "    def __init__(self, imgs, labels=None, tfm=T.ToTensor()):\n",
    "        super().__init__()\n",
    "        self.imgs = imgs\n",
    "        self.labels = labels\n",
    "        self.tfm = tfm\n",
    "    def __getitem__(self, idx):\n",
    "        if self.labels is None:\n",
    "            return self.tfm(self.imgs[idx])\n",
    "            # return nn.AvgPool2d(2,2)(self.tfm(self.imgs[idx]))\n",
    "        else:\n",
    "            return self.tfm(self.imgs[idx]), self.labels[idx]\n",
    "            # return nn.AvgPool2d(2,2)(self.tfm(self.imgs[idx])), self.labels[idx]\n",
    "    def __len__(self):\n",
    "        return len(self.imgs)"
   ]
  },
  {
   "cell_type": "markdown",
   "metadata": {
    "id": "EHoRIe0st_Yb"
   },
   "source": [
    "## AutoEncoder model\n",
    "<span style=\"color:orange\">(TODO: Design your model)</span>\n",
    "\n",
    "<img src=\"https://julien-vitay.net/lecturenotes-neurocomputing/_images/semisupervised-autoencoder.png\" width=\"500\"/>"
   ]
  },
  {
   "cell_type": "code",
   "execution_count": 105,
   "metadata": {
    "id": "-CMJhlLnt_Yc"
   },
   "outputs": [],
   "source": [
    "# TODO: Implement your autoencoder model\n",
    "class Autoencoder(nn.Module):\n",
    "    def __init__(self):\n",
    "        super(Autoencoder, self).__init__()\n",
    "\n",
    "        # Encoder\n",
    "        self.encoder = nn.Sequential(\n",
    "            nn.Conv2d(3, 64, kernel_size=4, stride=2, padding=1),\n",
    "            nn.ReLU(),\n",
    "            nn.Conv2d(64, 128, kernel_size=4, stride=2, padding=1),\n",
    "            nn.ReLU(),\n",
    "            nn.Conv2d(128, 256, kernel_size=4, stride=2, padding=1),\n",
    "            nn.ReLU(),\n",
    "            nn.Conv2d(256, 512, kernel_size=4, stride=2, padding=1),\n",
    "            nn.ReLU(),\n",
    "            nn.Flatten(start_dim=1),   # Flatten to feed into the linear layer\n",
    "            nn.Linear(512*4*4, 1024)\n",
    "        )\n",
    "\n",
    "        # Decoder\n",
    "        self.decoder = nn.Sequential(\n",
    "            nn.Linear(1024, 512*4*4),\n",
    "            nn.Unflatten(dim=1, unflattened_size=(512, 4, 4)),   # Unflatten\n",
    "            nn.ConvTranspose2d(512, 256, kernel_size=4, stride=2, padding=1),\n",
    "            nn.ReLU(),\n",
    "            nn.ConvTranspose2d(256, 128, kernel_size=4, stride=2, padding=1),\n",
    "            nn.ReLU(),\n",
    "            nn.ConvTranspose2d(128, 64, kernel_size=4, stride=2, padding=1),\n",
    "            nn.ReLU(),\n",
    "            nn.ConvTranspose2d(64, 3, kernel_size=4, stride=2, padding=1),\n",
    "            nn.Sigmoid()  # Use sigmoid to get pixel values between 0 and 1\n",
    "        )\n",
    "\n",
    "        # classifier head\n",
    "        self.predictor = nn.Sequential(\n",
    "            nn.Linear(1024, 1024),   # Latent space with 1024 features\n",
    "            nn.ReLU(),\n",
    "            nn.Linear(1024, 10)\n",
    "        )\n",
    "\n",
    "    def forward(self, x):\n",
    "        # encode\n",
    "        z = self.encoder(x)\n",
    "        # decode\n",
    "        x_prime = self.decoder(z)\n",
    "        # classify\n",
    "        y = self.predictor(z)\n",
    "        return x_prime, y, z"
   ]
  },
  {
   "cell_type": "markdown",
   "metadata": {
    "id": "2SMmDifFt_Yd"
   },
   "source": [
    "## Pre-train with unlabelled data\n",
    "<span style=\"color:orange\">(TODO: Hyperparameter tuning / Augmentation)</span>"
   ]
  },
  {
   "cell_type": "code",
   "execution_count": 106,
   "metadata": {
    "id": "Y9Y3_FbFt_Yd"
   },
   "outputs": [],
   "source": [
    "def add_noise(x, noise_factor=0.1):\n",
    "    if noise_factor <= 0:\n",
    "        return x\n",
    "    noise = noise_factor * torch.randn_like(x)\n",
    "    return torch.clamp(x + noise, 0.0, 1.0)\n",
    "\n",
    "def pretrain(model, train_loader, valid_loader, config, noise_function=add_noise):\n",
    "    model = model.to(config.device)\n",
    "    criterion = nn.MSELoss()\n",
    "    optimizer = torch.optim.AdamW(model.parameters(), lr=config.lr, weight_decay=config.weight_decay)\n",
    "    scheduler = torch.optim.lr_scheduler.ReduceLROnPlateau(optimizer, mode='min', factor=0.5, patience=5)\n",
    "\n",
    "    use_amp = getattr(config, 'use_amp', False)\n",
    "    scaler = amp.GradScaler(enabled=use_amp)\n",
    "    max_grad_norm = getattr(config, 'max_grad_norm', None)\n",
    "\n",
    "    train_losses = []\n",
    "    valid_losses = []\n",
    "    best_valid_loss = float('inf')\n",
    "    best_state_dict = None\n",
    "\n",
    "    for epoch in range(config.pretrain_epochs):\n",
    "        model.train()\n",
    "        train_loss = 0.0\n",
    "        progress = tqdm(train_loader, desc=f'Pretrain {epoch + 1}/{config.pretrain_epochs}', leave=False)\n",
    "        for img in progress:\n",
    "            img = img.to(config.device, non_blocking=True)\n",
    "            noisy_img = noise_function(img, getattr(config, 'noise_factor', 0.0))\n",
    "\n",
    "            optimizer.zero_grad(set_to_none=True)\n",
    "            with amp.autocast(enabled=use_amp):\n",
    "                x_prime, _, _ = model(noisy_img)\n",
    "                loss = criterion(x_prime, img)\n",
    "\n",
    "            scaler.scale(loss).backward()\n",
    "            if max_grad_norm is not None:\n",
    "                scaler.unscale_(optimizer)\n",
    "                torch.nn.utils.clip_grad_norm_(model.parameters(), max_grad_norm)\n",
    "            scaler.step(optimizer)\n",
    "            scaler.update()\n",
    "\n",
    "            train_loss += loss.item()\n",
    "            progress.set_postfix({'loss': loss.item()})\n",
    "\n",
    "        train_loss /= len(train_loader)\n",
    "        train_losses.append(train_loss)\n",
    "\n",
    "        if valid_loader is not None:\n",
    "            model.eval()\n",
    "            valid_loss = 0.0\n",
    "            with torch.no_grad():\n",
    "                for img in valid_loader:\n",
    "                    img = img.to(config.device, non_blocking=True)\n",
    "                    with amp.autocast(enabled=use_amp):\n",
    "                        x_prime, _, _ = model(img)\n",
    "                        loss = criterion(x_prime, img)\n",
    "                    valid_loss += loss.item()\n",
    "            valid_loss /= len(valid_loader)\n",
    "            valid_losses.append(valid_loss)\n",
    "\n",
    "            scheduler.step(valid_loss)\n",
    "\n",
    "            if valid_loss < best_valid_loss:\n",
    "                best_valid_loss = valid_loss\n",
    "                best_state_dict = {k: v.cpu() for k, v in model.state_dict().items()}\n",
    "\n",
    "            print(f'Epoch {epoch + 1}/{config.pretrain_epochs}, Train Loss: {train_loss:.4f}, Valid Loss: {valid_loss:.4f}')\n",
    "        else:\n",
    "            print(f'Epoch {epoch + 1}/{config.pretrain_epochs}, Train Loss: {train_loss:.4f}')\n",
    "\n",
    "    if best_state_dict is not None:\n",
    "        model.load_state_dict(best_state_dict)\n",
    "        torch.save(best_state_dict, config.pretrain_model_path)\n",
    "    else:\n",
    "        torch.save(model.state_dict(), config.pretrain_model_path)\n",
    "\n",
    "    plt.figure(figsize=(10, 5))\n",
    "    plt.plot(range(1, config.pretrain_epochs + 1), train_losses, label='Train Loss')\n",
    "    if valid_losses:\n",
    "        plt.plot(range(1, len(valid_losses) + 1), valid_losses, label='Valid Loss')\n",
    "    plt.xlabel('Epochs')\n",
    "    plt.ylabel('Loss')\n",
    "    plt.legend()\n",
    "    plt.show()\n",
    "\n"
   ]
  },
  {
   "cell_type": "code",
   "execution_count": 107,
   "metadata": {
    "id": "rqi6ZV_Pt_Ye"
   },
   "outputs": [
    {
     "name": "stdout",
     "output_type": "stream",
     "text": [
      "Device: cuda\n"
     ]
    }
   ],
   "source": [
    "pretrain_train_tfm = T.Compose([\n",
    "    T.RandomResizedCrop(64, scale=(0.65, 1.0)),\n",
    "    T.RandomHorizontalFlip(),\n",
    "    T.RandomApply([\n",
    "        T.ColorJitter(brightness=0.3, contrast=0.3, saturation=0.3, hue=0.1)\n",
    "    ], p=0.8),\n",
    "    T.RandomGrayscale(p=0.1),\n",
    "    T.RandomApply([T.GaussianBlur(kernel_size=3, sigma=(0.1, 1.0))], p=0.2),\n",
    "    T.ToTensor(),\n",
    "])\n",
    "pretrain_valid_tfm = T.Compose([\n",
    "    T.Resize(72),\n",
    "    T.CenterCrop(64),\n",
    "    T.ToTensor(),\n",
    "])\n",
    "\n",
    "pretrain_config = Namespace(\n",
    "    batch_size = 128,\n",
    "    device = 'cuda' if torch.cuda.is_available() else 'cpu',\n",
    "    lr = 5e-4,\n",
    "    weight_decay = 1e-5,\n",
    "    noise_factor = 0.05,\n",
    "    pretrain_epochs = 30,\n",
    "    max_grad_norm = 1.0,\n",
    "    use_amp = torch.cuda.is_available(),\n",
    "    pretrain_model_path = 'pretrain_model.ckpt'\n",
    ")\n",
    "\n",
    "print('Device:', pretrain_config.device)\n",
    "\n"
   ]
  },
  {
   "cell_type": "code",
   "execution_count": 108,
   "metadata": {
    "id": "yqLj0dxbt_Yf"
   },
   "outputs": [],
   "source": [
    "pretrain_train_data = load_unlabelled('/docker_data/ysyang/ml/data/dev/unlabelled')\n",
    "pretrain_train_data, pretrain_valid_data = torch.utils.data.random_split(pretrain_train_data, [0.8, 0.2])\n",
    "pretrain_train_dataset = ImageDataset(pretrain_train_data, tfm=pretrain_train_tfm)\n",
    "pretrain_valid_dataset = ImageDataset(pretrain_valid_data, tfm=pretrain_valid_tfm)\n",
    "\n",
    "num_workers = min(4, os.cpu_count() or 1)\n",
    "pin_memory = torch.cuda.is_available()\n",
    "\n",
    "pretrain_train_loader = DataLoader(\n",
    "    pretrain_train_dataset,\n",
    "    batch_size=pretrain_config.batch_size,\n",
    "    shuffle=True,\n",
    "    num_workers=num_workers,\n",
    "    pin_memory=pin_memory,\n",
    ")\n",
    "pretrain_valid_loader = DataLoader(\n",
    "    pretrain_valid_dataset,\n",
    "    batch_size=pretrain_config.batch_size,\n",
    "    shuffle=False,\n",
    "    num_workers=num_workers,\n",
    "    pin_memory=pin_memory,\n",
    ")\n",
    "\n"
   ]
  },
  {
   "cell_type": "code",
   "execution_count": 109,
   "metadata": {
    "id": "AUsIEMwet_Yg"
   },
   "outputs": [
    {
     "name": "stderr",
     "output_type": "stream",
     "text": [
      "/tmp/ipykernel_746202/260905327.py:14: FutureWarning: `torch.cuda.amp.GradScaler(args...)` is deprecated. Please use `torch.amp.GradScaler('cuda', args...)` instead.\n",
      "  scaler = amp.GradScaler(enabled=use_amp)\n",
      "Pretrain 1/30:   0%|          | 0/625 [00:00<?, ?it/s]/tmp/ipykernel_746202/260905327.py:31: FutureWarning: `torch.cuda.amp.autocast(args...)` is deprecated. Please use `torch.amp.autocast('cuda', args...)` instead.\n",
      "  with amp.autocast(enabled=use_amp):\n",
      "/tmp/ipykernel_746202/260905327.py:54: FutureWarning: `torch.cuda.amp.autocast(args...)` is deprecated. Please use `torch.amp.autocast('cuda', args...)` instead.\n",
      "  with amp.autocast(enabled=use_amp):\n"
     ]
    },
    {
     "name": "stdout",
     "output_type": "stream",
     "text": [
      "Epoch 1/30, Train Loss: 0.0212, Valid Loss: 0.0112\n"
     ]
    },
    {
     "name": "stderr",
     "output_type": "stream",
     "text": [
      "                                                                              \r"
     ]
    },
    {
     "name": "stdout",
     "output_type": "stream",
     "text": [
      "Epoch 2/30, Train Loss: 0.0095, Valid Loss: 0.0080\n"
     ]
    },
    {
     "name": "stderr",
     "output_type": "stream",
     "text": [
      "                                                                              \r"
     ]
    },
    {
     "name": "stdout",
     "output_type": "stream",
     "text": [
      "Epoch 3/30, Train Loss: 0.0070, Valid Loss: 0.0066\n"
     ]
    },
    {
     "name": "stderr",
     "output_type": "stream",
     "text": [
      "                                                                              \r"
     ]
    },
    {
     "name": "stdout",
     "output_type": "stream",
     "text": [
      "Epoch 4/30, Train Loss: 0.0060, Valid Loss: 0.0059\n"
     ]
    },
    {
     "name": "stderr",
     "output_type": "stream",
     "text": [
      "                                                                              \r"
     ]
    },
    {
     "name": "stdout",
     "output_type": "stream",
     "text": [
      "Epoch 5/30, Train Loss: 0.0053, Valid Loss: 0.0052\n"
     ]
    },
    {
     "name": "stderr",
     "output_type": "stream",
     "text": [
      "                                                                              \r"
     ]
    },
    {
     "name": "stdout",
     "output_type": "stream",
     "text": [
      "Epoch 6/30, Train Loss: 0.0047, Valid Loss: 0.0047\n"
     ]
    },
    {
     "name": "stderr",
     "output_type": "stream",
     "text": [
      "                                                                              \r"
     ]
    },
    {
     "name": "stdout",
     "output_type": "stream",
     "text": [
      "Epoch 7/30, Train Loss: 0.0044, Valid Loss: 0.0043\n"
     ]
    },
    {
     "name": "stderr",
     "output_type": "stream",
     "text": [
      "                                                                              \r"
     ]
    },
    {
     "name": "stdout",
     "output_type": "stream",
     "text": [
      "Epoch 8/30, Train Loss: 0.0041, Valid Loss: 0.0040\n"
     ]
    },
    {
     "name": "stderr",
     "output_type": "stream",
     "text": [
      "                                                                              \r"
     ]
    },
    {
     "name": "stdout",
     "output_type": "stream",
     "text": [
      "Epoch 9/30, Train Loss: 0.0038, Valid Loss: 0.0038\n"
     ]
    },
    {
     "name": "stderr",
     "output_type": "stream",
     "text": [
      "                                                                               \r"
     ]
    },
    {
     "name": "stdout",
     "output_type": "stream",
     "text": [
      "Epoch 10/30, Train Loss: 0.0036, Valid Loss: 0.0035\n"
     ]
    },
    {
     "name": "stderr",
     "output_type": "stream",
     "text": [
      "                                                                               \r"
     ]
    },
    {
     "name": "stdout",
     "output_type": "stream",
     "text": [
      "Epoch 11/30, Train Loss: 0.0034, Valid Loss: 0.0034\n"
     ]
    },
    {
     "name": "stderr",
     "output_type": "stream",
     "text": [
      "                                                                               \r"
     ]
    },
    {
     "name": "stdout",
     "output_type": "stream",
     "text": [
      "Epoch 12/30, Train Loss: 0.0032, Valid Loss: 0.0031\n"
     ]
    },
    {
     "name": "stderr",
     "output_type": "stream",
     "text": [
      "                                                                               \r"
     ]
    },
    {
     "name": "stdout",
     "output_type": "stream",
     "text": [
      "Epoch 13/30, Train Loss: 0.0030, Valid Loss: 0.0031\n"
     ]
    },
    {
     "name": "stderr",
     "output_type": "stream",
     "text": [
      "                                                                               \r"
     ]
    },
    {
     "name": "stdout",
     "output_type": "stream",
     "text": [
      "Epoch 14/30, Train Loss: 0.0030, Valid Loss: 0.0029\n"
     ]
    },
    {
     "name": "stderr",
     "output_type": "stream",
     "text": [
      "                                                                               \r"
     ]
    },
    {
     "name": "stdout",
     "output_type": "stream",
     "text": [
      "Epoch 15/30, Train Loss: 0.0029, Valid Loss: 0.0029\n"
     ]
    },
    {
     "name": "stderr",
     "output_type": "stream",
     "text": [
      "                                                                               \r"
     ]
    },
    {
     "name": "stdout",
     "output_type": "stream",
     "text": [
      "Epoch 16/30, Train Loss: 0.0028, Valid Loss: 0.0028\n"
     ]
    },
    {
     "name": "stderr",
     "output_type": "stream",
     "text": [
      "                                                                               \r"
     ]
    },
    {
     "name": "stdout",
     "output_type": "stream",
     "text": [
      "Epoch 17/30, Train Loss: 0.0027, Valid Loss: 0.0027\n"
     ]
    },
    {
     "name": "stderr",
     "output_type": "stream",
     "text": [
      "                                                                               \r"
     ]
    },
    {
     "name": "stdout",
     "output_type": "stream",
     "text": [
      "Epoch 18/30, Train Loss: 0.0026, Valid Loss: 0.0028\n"
     ]
    },
    {
     "name": "stderr",
     "output_type": "stream",
     "text": [
      "                                                                               \r"
     ]
    },
    {
     "name": "stdout",
     "output_type": "stream",
     "text": [
      "Epoch 19/30, Train Loss: 0.0025, Valid Loss: 0.0027\n"
     ]
    },
    {
     "name": "stderr",
     "output_type": "stream",
     "text": [
      "                                                                               \r"
     ]
    },
    {
     "name": "stdout",
     "output_type": "stream",
     "text": [
      "Epoch 20/30, Train Loss: 0.0025, Valid Loss: 0.0025\n"
     ]
    },
    {
     "name": "stderr",
     "output_type": "stream",
     "text": [
      "                                                                               \r"
     ]
    },
    {
     "name": "stdout",
     "output_type": "stream",
     "text": [
      "Epoch 21/30, Train Loss: 0.0024, Valid Loss: 0.0024\n"
     ]
    },
    {
     "name": "stderr",
     "output_type": "stream",
     "text": [
      "                                                                               \r"
     ]
    },
    {
     "name": "stdout",
     "output_type": "stream",
     "text": [
      "Epoch 22/30, Train Loss: 0.0023, Valid Loss: 0.0024\n"
     ]
    },
    {
     "name": "stderr",
     "output_type": "stream",
     "text": [
      "                                                                               \r"
     ]
    },
    {
     "name": "stdout",
     "output_type": "stream",
     "text": [
      "Epoch 23/30, Train Loss: 0.0023, Valid Loss: 0.0022\n"
     ]
    },
    {
     "name": "stderr",
     "output_type": "stream",
     "text": [
      "                                                                               \r"
     ]
    },
    {
     "name": "stdout",
     "output_type": "stream",
     "text": [
      "Epoch 24/30, Train Loss: 0.0022, Valid Loss: 0.0023\n"
     ]
    },
    {
     "name": "stderr",
     "output_type": "stream",
     "text": [
      "                                                                               \r"
     ]
    },
    {
     "name": "stdout",
     "output_type": "stream",
     "text": [
      "Epoch 25/30, Train Loss: 0.0022, Valid Loss: 0.0022\n"
     ]
    },
    {
     "name": "stderr",
     "output_type": "stream",
     "text": [
      "                                                                               \r"
     ]
    },
    {
     "name": "stdout",
     "output_type": "stream",
     "text": [
      "Epoch 26/30, Train Loss: 0.0021, Valid Loss: 0.0021\n"
     ]
    },
    {
     "name": "stderr",
     "output_type": "stream",
     "text": [
      "                                                                               \r"
     ]
    },
    {
     "name": "stdout",
     "output_type": "stream",
     "text": [
      "Epoch 27/30, Train Loss: 0.0021, Valid Loss: 0.0021\n"
     ]
    },
    {
     "name": "stderr",
     "output_type": "stream",
     "text": [
      "                                                                               \r"
     ]
    },
    {
     "name": "stdout",
     "output_type": "stream",
     "text": [
      "Epoch 28/30, Train Loss: 0.0021, Valid Loss: 0.0021\n"
     ]
    },
    {
     "name": "stderr",
     "output_type": "stream",
     "text": [
      "                                                                               \r"
     ]
    },
    {
     "name": "stdout",
     "output_type": "stream",
     "text": [
      "Epoch 29/30, Train Loss: 0.0020, Valid Loss: 0.0021\n"
     ]
    },
    {
     "name": "stderr",
     "output_type": "stream",
     "text": [
      "                                                                               \r"
     ]
    },
    {
     "name": "stdout",
     "output_type": "stream",
     "text": [
      "Epoch 30/30, Train Loss: 0.0020, Valid Loss: 0.0020\n"
     ]
    },
    {
     "data": {
      "image/png": "[encoded data removed]",
      "text/plain": [
       "<Figure size 1000x500 with 1 Axes>"
      ]
     },
     "metadata": {},
     "output_type": "display_data"
    }
   ],
   "source": [
    "model = Autoencoder()\n",
    "pretrain(model, pretrain_train_loader, pretrain_valid_loader, pretrain_config)"
   ]
  },
  {
   "cell_type": "markdown",
   "metadata": {
    "id": "0PAGum3Rt_Yg"
   },
   "source": [
    "## Fine-tune with labelled data\n",
    "<span style=\"color:orange\">(TODO: Loss function / Augmentation)</span>"
   ]
  },
  {
   "cell_type": "code",
   "execution_count": 110,
   "metadata": {
    "id": "RGyNU-17t_Yh"
   },
   "outputs": [],
   "source": [
    "def cross_entropy_with_label_smoothing(logits, target, smoothing=0.0):\n",
    "    if smoothing <= 0.0:\n",
    "        return F.cross_entropy(logits, target)\n",
    "    smoothing = min(max(smoothing, 0.0), 1.0)\n",
    "    num_classes = logits.size(1)\n",
    "    with torch.no_grad():\n",
    "        true_dist = torch.full_like(logits, smoothing / (num_classes - 1))\n",
    "        true_dist.scatter_(1, target.unsqueeze(1), 1.0 - smoothing)\n",
    "    log_prob = F.log_softmax(logits, dim=1)\n",
    "    return -(true_dist * log_prob).sum(dim=1).mean()\n",
    "\n",
    "def loss_fn(x_prime, logits, z, x, target, reconstruction_weight=0.15, smoothing=0.05, latent_reg_weight=1e-4):\n",
    "    reconstruction_loss = F.mse_loss(x_prime, x)\n",
    "    classification_loss = cross_entropy_with_label_smoothing(logits, target, smoothing)\n",
    "    latent_reg = z.norm(dim=1).mean()\n",
    "    return classification_loss + reconstruction_weight * reconstruction_loss + latent_reg_weight * latent_reg\n",
    "\n",
    "def finetune(model, train_loader, valid_loader, config, noise_function=add_noise):\n",
    "    model = model.to(config.device)\n",
    "    optimizer = torch.optim.AdamW(model.parameters(), lr=config.lr, weight_decay=config.weight_decay)\n",
    "    scheduler = torch.optim.lr_scheduler.ReduceLROnPlateau(optimizer, mode='min', factor=0.5, patience=5)\n",
    "\n",
    "    use_amp = getattr(config, 'use_amp', False)\n",
    "    scaler = amp.GradScaler(enabled=use_amp)\n",
    "    max_grad_norm = getattr(config, 'max_grad_norm', None)\n",
    "\n",
    "    train_losses = []\n",
    "    valid_losses = []\n",
    "    best_valid_acc = 0.0\n",
    "    best_state_dict = None\n",
    "\n",
    "    for epoch in range(config.finetune_epochs):\n",
    "        model.train()\n",
    "        train_loss, train_acc = 0.0, 0.0\n",
    "        progress = tqdm(train_loader, desc=f'Finetune {epoch + 1}/{config.finetune_epochs}', leave=False)\n",
    "        for img, label in progress:\n",
    "            img = img.to(config.device, non_blocking=True)\n",
    "            label = label.to(config.device, non_blocking=True)\n",
    "\n",
    "            optimizer.zero_grad(set_to_none=True)\n",
    "            noisy_img = noise_function(img, getattr(config, 'noise_factor', 0.0))\n",
    "            with amp.autocast(enabled=use_amp):\n",
    "                x_prime, logits, z = model(noisy_img)\n",
    "                loss = loss_fn(\n",
    "                    x_prime,\n",
    "                    logits,\n",
    "                    z,\n",
    "                    img,\n",
    "                    label,\n",
    "                    reconstruction_weight=config.reconstruction_weight,\n",
    "                    smoothing=config.label_smoothing,\n",
    "                    latent_reg_weight=config.latent_reg_weight,\n",
    "                )\n",
    "\n",
    "            scaler.scale(loss).backward()\n",
    "            if max_grad_norm is not None:\n",
    "                scaler.unscale_(optimizer)\n",
    "                torch.nn.utils.clip_grad_norm_(model.parameters(), max_grad_norm)\n",
    "            scaler.step(optimizer)\n",
    "            scaler.update()\n",
    "\n",
    "            preds = logits.argmax(dim=1)\n",
    "            batch_acc = (preds == label).float().mean().item()\n",
    "            train_loss += loss.item()\n",
    "            train_acc += batch_acc\n",
    "            progress.set_postfix({'loss': loss.item(), 'acc': batch_acc})\n",
    "\n",
    "        train_loss /= len(train_loader)\n",
    "        train_acc /= len(train_loader)\n",
    "        print(f'Epoch {epoch + 1}/{config.finetune_epochs}, Train Loss: {train_loss:.4f}, Train Acc: {train_acc:.4f}')\n",
    "\n",
    "        model.eval()\n",
    "        valid_loss, valid_acc = 0.0, 0.0\n",
    "        with torch.no_grad():\n",
    "            for img, label in valid_loader:\n",
    "                img = img.to(config.device, non_blocking=True)\n",
    "                label = label.to(config.device, non_blocking=True)\n",
    "                with amp.autocast(enabled=use_amp):\n",
    "                    x_prime, logits, z = model(img)\n",
    "                    loss = loss_fn(\n",
    "                        x_prime,\n",
    "                        logits,\n",
    "                        z,\n",
    "                        img,\n",
    "                        label,\n",
    "                        reconstruction_weight=config.reconstruction_weight,\n",
    "                        smoothing=config.label_smoothing,\n",
    "                        latent_reg_weight=config.latent_reg_weight,\n",
    "                    )\n",
    "                valid_loss += loss.item()\n",
    "                valid_acc += (logits.argmax(dim=1) == label).float().mean().item()\n",
    "\n",
    "        valid_loss /= len(valid_loader)\n",
    "        valid_acc /= len(valid_loader)\n",
    "        scheduler.step(valid_loss)\n",
    "\n",
    "        if valid_acc > best_valid_acc:\n",
    "            best_valid_acc = valid_acc\n",
    "            best_state_dict = {k: v.cpu() for k, v in model.state_dict().items()}\n",
    "\n",
    "        print(f'Epoch {epoch + 1}/{config.finetune_epochs}, Valid Loss: {valid_loss:.4f}, Valid Acc: {valid_acc:.4f}')\n",
    "        train_losses.append(train_loss)\n",
    "        valid_losses.append(valid_loss)\n",
    "\n",
    "    if best_state_dict is not None:\n",
    "        model.load_state_dict(best_state_dict)\n",
    "        torch.save(best_state_dict, config.finetune_model_path)\n",
    "    else:\n",
    "        torch.save(model.state_dict(), config.finetune_model_path)\n",
    "\n",
    "    plt.figure(figsize=(10, 5))\n",
    "    plt.plot(range(1, config.finetune_epochs + 1), train_losses, label='Train Loss')\n",
    "    plt.plot(range(1, config.finetune_epochs + 1), valid_losses, label='Valid Loss')\n",
    "    plt.xlabel('Epochs')\n",
    "    plt.ylabel('Loss')\n",
    "    plt.legend()\n",
    "    plt.show()\n",
    "\n"
   ]
  },
  {
   "cell_type": "code",
   "execution_count": 111,
   "metadata": {
    "id": "9Oi3l0T7t_Yh"
   },
   "outputs": [],
   "source": [
    "finetune_train_tfm = T.Compose([\n",
    "    T.RandomResizedCrop(64, scale=(0.65, 1.0)),\n",
    "    T.RandomHorizontalFlip(),\n",
    "    T.RandomApply([\n",
    "        T.ColorJitter(brightness=0.3, contrast=0.3, saturation=0.3, hue=0.1)\n",
    "    ], p=0.7),\n",
    "    T.RandomGrayscale(p=0.1),\n",
    "    T.RandomApply([T.GaussianBlur(kernel_size=3, sigma=(0.1, 1.0))], p=0.2),\n",
    "    T.ToTensor(),\n",
    "    T.RandomErasing(p=0.2, scale=(0.02, 0.15), ratio=(0.3, 3.3)),\n",
    "])\n",
    "finetune_valid_tfm = T.Compose([\n",
    "    T.Resize(72),\n",
    "    T.CenterCrop(64),\n",
    "    T.ToTensor(),\n",
    "])\n",
    "\n",
    "finetune_config = Namespace(\n",
    "    batch_size = 32,\n",
    "    device = 'cuda' if torch.cuda.is_available() else 'cpu',\n",
    "    lr = 3e-4,\n",
    "    weight_decay = 1e-4,\n",
    "    noise_factor = 0.02,\n",
    "    finetune_epochs = 35,\n",
    "    max_grad_norm = 1.0,\n",
    "    reconstruction_weight = 0.15,\n",
    "    label_smoothing = 0.05,\n",
    "    latent_reg_weight = 1e-4,\n",
    "    use_amp = torch.cuda.is_available(),\n",
    "    finetune_model_path = 'finetune_model.ckpt'\n",
    ")\n",
    "\n"
   ]
  },
  {
   "cell_type": "code",
   "execution_count": 112,
   "metadata": {
    "id": "iLZDx8G4t_Yi"
   },
   "outputs": [],
   "source": [
    "finetune_train_data = load_labelled('/docker_data/ysyang/ml/data/dev/labelled')\n",
    "finetune_train_data, finetune_valid_data = torch.utils.data.random_split(finetune_train_data, [0.8, 0.2])\n",
    "finetune_train_dataset = ImageDataset(*map(list, zip(*finetune_train_data)), finetune_train_tfm)\n",
    "finetune_valid_dataset = ImageDataset(*map(list, zip(*finetune_valid_data)), finetune_valid_tfm)\n",
    "\n",
    "num_workers = min(4, os.cpu_count() or 1)\n",
    "pin_memory = torch.cuda.is_available()\n",
    "\n",
    "finetune_train_loader = DataLoader(\n",
    "    finetune_train_dataset,\n",
    "    batch_size=finetune_config.batch_size,\n",
    "    shuffle=True,\n",
    "    num_workers=num_workers,\n",
    "    pin_memory=pin_memory,\n",
    ")\n",
    "finetune_valid_loader = DataLoader(\n",
    "    finetune_valid_dataset,\n",
    "    batch_size=finetune_config.batch_size,\n",
    "    shuffle=False,\n",
    "    num_workers=num_workers,\n",
    "    pin_memory=pin_memory,\n",
    ")\n",
    "\n"
   ]
  },
  {
   "cell_type": "code",
   "execution_count": 113,
   "metadata": {
    "id": "gk-e9b0lt_Yi"
   },
   "outputs": [
    {
     "name": "stderr",
     "output_type": "stream",
     "text": [
      "/tmp/ipykernel_746202/2934286906.py:24: FutureWarning: `torch.cuda.amp.GradScaler(args...)` is deprecated. Please use `torch.amp.GradScaler('cuda', args...)` instead.\n",
      "  scaler = amp.GradScaler(enabled=use_amp)\n",
      "Finetune 1/35:   0%|          | 0/94 [00:00<?, ?it/s]/tmp/ipykernel_746202/2934286906.py:42: FutureWarning: `torch.cuda.amp.autocast(args...)` is deprecated. Please use `torch.amp.autocast('cuda', args...)` instead.\n",
      "  with amp.autocast(enabled=use_amp):\n",
      "                                                                                     "
     ]
    },
    {
     "name": "stdout",
     "output_type": "stream",
     "text": [
      "Epoch 1/35, Train Loss: 1.9360, Train Acc: 0.3129\n"
     ]
    },
    {
     "name": "stderr",
     "output_type": "stream",
     "text": [
      "/tmp/ipykernel_746202/2934286906.py:78: FutureWarning: `torch.cuda.amp.autocast(args...)` is deprecated. Please use `torch.amp.autocast('cuda', args...)` instead.\n",
      "  with amp.autocast(enabled=use_amp):\n"
     ]
    },
    {
     "name": "stdout",
     "output_type": "stream",
     "text": [
      "Epoch 1/35, Valid Loss: 1.7375, Valid Acc: 0.3971\n"
     ]
    },
    {
     "name": "stderr",
     "output_type": "stream",
     "text": [
      "                                                                                     "
     ]
    },
    {
     "name": "stdout",
     "output_type": "stream",
     "text": [
      "Epoch 2/35, Train Loss: 1.7125, Train Acc: 0.4014\n"
     ]
    },
    {
     "name": "stderr",
     "output_type": "stream",
     "text": [
      "\r"
     ]
    },
    {
     "name": "stdout",
     "output_type": "stream",
     "text": [
      "Epoch 2/35, Valid Loss: 1.5614, Valid Acc: 0.4596\n"
     ]
    },
    {
     "name": "stderr",
     "output_type": "stream",
     "text": [
      "                                                                                     "
     ]
    },
    {
     "name": "stdout",
     "output_type": "stream",
     "text": [
      "Epoch 3/35, Train Loss: 1.6607, Train Acc: 0.4243\n"
     ]
    },
    {
     "name": "stderr",
     "output_type": "stream",
     "text": [
      "\r"
     ]
    },
    {
     "name": "stdout",
     "output_type": "stream",
     "text": [
      "Epoch 3/35, Valid Loss: 1.5231, Valid Acc: 0.4993\n"
     ]
    },
    {
     "name": "stderr",
     "output_type": "stream",
     "text": [
      "                                                                                     "
     ]
    },
    {
     "name": "stdout",
     "output_type": "stream",
     "text": [
      "Epoch 4/35, Train Loss: 1.6206, Train Acc: 0.4461\n"
     ]
    },
    {
     "name": "stderr",
     "output_type": "stream",
     "text": [
      "\r"
     ]
    },
    {
     "name": "stdout",
     "output_type": "stream",
     "text": [
      "Epoch 4/35, Valid Loss: 1.4520, Valid Acc: 0.4766\n"
     ]
    },
    {
     "name": "stderr",
     "output_type": "stream",
     "text": [
      "                                                                                     "
     ]
    },
    {
     "name": "stdout",
     "output_type": "stream",
     "text": [
      "Epoch 5/35, Train Loss: 1.5732, Train Acc: 0.4579\n"
     ]
    },
    {
     "name": "stderr",
     "output_type": "stream",
     "text": [
      "\r"
     ]
    },
    {
     "name": "stdout",
     "output_type": "stream",
     "text": [
      "Epoch 5/35, Valid Loss: 1.4510, Valid Acc: 0.5134\n"
     ]
    },
    {
     "name": "stderr",
     "output_type": "stream",
     "text": [
      "                                                                                     "
     ]
    },
    {
     "name": "stdout",
     "output_type": "stream",
     "text": [
      "Epoch 6/35, Train Loss: 1.5057, Train Acc: 0.5000\n"
     ]
    },
    {
     "name": "stderr",
     "output_type": "stream",
     "text": [
      "\r"
     ]
    },
    {
     "name": "stdout",
     "output_type": "stream",
     "text": [
      "Epoch 6/35, Valid Loss: 1.4052, Valid Acc: 0.5472\n"
     ]
    },
    {
     "name": "stderr",
     "output_type": "stream",
     "text": [
      "                                                                                     \r"
     ]
    },
    {
     "name": "stdout",
     "output_type": "stream",
     "text": [
      "Epoch 7/35, Train Loss: 1.4736, Train Acc: 0.5126\n",
      "Epoch 7/35, Valid Loss: 1.4010, Valid Acc: 0.5580\n"
     ]
    },
    {
     "name": "stderr",
     "output_type": "stream",
     "text": [
      "                                                                                     "
     ]
    },
    {
     "name": "stdout",
     "output_type": "stream",
     "text": [
      "Epoch 8/35, Train Loss: 1.4203, Train Acc: 0.5373\n"
     ]
    },
    {
     "name": "stderr",
     "output_type": "stream",
     "text": [
      "\r"
     ]
    },
    {
     "name": "stdout",
     "output_type": "stream",
     "text": [
      "Epoch 8/35, Valid Loss: 1.3689, Valid Acc: 0.5685\n"
     ]
    },
    {
     "name": "stderr",
     "output_type": "stream",
     "text": [
      "                                                                                     "
     ]
    },
    {
     "name": "stdout",
     "output_type": "stream",
     "text": [
      "Epoch 9/35, Train Loss: 1.3936, Train Acc: 0.5469\n"
     ]
    },
    {
     "name": "stderr",
     "output_type": "stream",
     "text": [
      "\r"
     ]
    },
    {
     "name": "stdout",
     "output_type": "stream",
     "text": [
      "Epoch 9/35, Valid Loss: 1.3458, Valid Acc: 0.5521\n"
     ]
    },
    {
     "name": "stderr",
     "output_type": "stream",
     "text": [
      "                                                                                      "
     ]
    },
    {
     "name": "stdout",
     "output_type": "stream",
     "text": [
      "Epoch 10/35, Train Loss: 1.3386, Train Acc: 0.5705\n"
     ]
    },
    {
     "name": "stderr",
     "output_type": "stream",
     "text": [
      "\r"
     ]
    },
    {
     "name": "stdout",
     "output_type": "stream",
     "text": [
      "Epoch 10/35, Valid Loss: 1.3560, Valid Acc: 0.5355\n"
     ]
    },
    {
     "name": "stderr",
     "output_type": "stream",
     "text": [
      "                                                                                       "
     ]
    },
    {
     "name": "stdout",
     "output_type": "stream",
     "text": [
      "Epoch 11/35, Train Loss: 1.3078, Train Acc: 0.5867\n"
     ]
    },
    {
     "name": "stderr",
     "output_type": "stream",
     "text": [
      "\r"
     ]
    },
    {
     "name": "stdout",
     "output_type": "stream",
     "text": [
      "Epoch 11/35, Valid Loss: 1.3454, Valid Acc: 0.5619\n"
     ]
    },
    {
     "name": "stderr",
     "output_type": "stream",
     "text": [
      "                                                                                       "
     ]
    },
    {
     "name": "stdout",
     "output_type": "stream",
     "text": [
      "Epoch 12/35, Train Loss: 1.2950, Train Acc: 0.5966\n"
     ]
    },
    {
     "name": "stderr",
     "output_type": "stream",
     "text": [
      "\r"
     ]
    },
    {
     "name": "stdout",
     "output_type": "stream",
     "text": [
      "Epoch 12/35, Valid Loss: 1.2862, Valid Acc: 0.5971\n"
     ]
    },
    {
     "name": "stderr",
     "output_type": "stream",
     "text": [
      "                                                                                       "
     ]
    },
    {
     "name": "stdout",
     "output_type": "stream",
     "text": [
      "Epoch 13/35, Train Loss: 1.2724, Train Acc: 0.6021\n"
     ]
    },
    {
     "name": "stderr",
     "output_type": "stream",
     "text": [
      "\r"
     ]
    },
    {
     "name": "stdout",
     "output_type": "stream",
     "text": [
      "Epoch 13/35, Valid Loss: 1.2901, Valid Acc: 0.5945\n"
     ]
    },
    {
     "name": "stderr",
     "output_type": "stream",
     "text": [
      "                                                                                       "
     ]
    },
    {
     "name": "stdout",
     "output_type": "stream",
     "text": [
      "Epoch 14/35, Train Loss: 1.2385, Train Acc: 0.6227\n"
     ]
    },
    {
     "name": "stderr",
     "output_type": "stream",
     "text": [
      "\r"
     ]
    },
    {
     "name": "stdout",
     "output_type": "stream",
     "text": [
      "Epoch 14/35, Valid Loss: 1.2843, Valid Acc: 0.5911\n"
     ]
    },
    {
     "name": "stderr",
     "output_type": "stream",
     "text": [
      "                                                                                       "
     ]
    },
    {
     "name": "stdout",
     "output_type": "stream",
     "text": [
      "Epoch 15/35, Train Loss: 1.2289, Train Acc: 0.6230\n"
     ]
    },
    {
     "name": "stderr",
     "output_type": "stream",
     "text": [
      "\r"
     ]
    },
    {
     "name": "stdout",
     "output_type": "stream",
     "text": [
      "Epoch 15/35, Valid Loss: 1.2834, Valid Acc: 0.6222\n"
     ]
    },
    {
     "name": "stderr",
     "output_type": "stream",
     "text": [
      "                                                                                       "
     ]
    },
    {
     "name": "stdout",
     "output_type": "stream",
     "text": [
      "Epoch 16/35, Train Loss: 1.1871, Train Acc: 0.6420\n"
     ]
    },
    {
     "name": "stderr",
     "output_type": "stream",
     "text": [
      "\r"
     ]
    },
    {
     "name": "stdout",
     "output_type": "stream",
     "text": [
      "Epoch 16/35, Valid Loss: 1.2265, Valid Acc: 0.6397\n"
     ]
    },
    {
     "name": "stderr",
     "output_type": "stream",
     "text": [
      "                                                                                       \r"
     ]
    },
    {
     "name": "stdout",
     "output_type": "stream",
     "text": [
      "Epoch 17/35, Train Loss: 1.1563, Train Acc: 0.6568\n",
      "Epoch 17/35, Valid Loss: 1.2297, Valid Acc: 0.6228\n"
     ]
    },
    {
     "name": "stderr",
     "output_type": "stream",
     "text": [
      "                                                                                       "
     ]
    },
    {
     "name": "stdout",
     "output_type": "stream",
     "text": [
      "Epoch 18/35, Train Loss: 1.1569, Train Acc: 0.6601\n"
     ]
    },
    {
     "name": "stderr",
     "output_type": "stream",
     "text": [
      "\r"
     ]
    },
    {
     "name": "stdout",
     "output_type": "stream",
     "text": [
      "Epoch 18/35, Valid Loss: 1.2874, Valid Acc: 0.6231\n"
     ]
    },
    {
     "name": "stderr",
     "output_type": "stream",
     "text": [
      "                                                                                       "
     ]
    },
    {
     "name": "stdout",
     "output_type": "stream",
     "text": [
      "Epoch 19/35, Train Loss: 1.1386, Train Acc: 0.6623\n"
     ]
    },
    {
     "name": "stderr",
     "output_type": "stream",
     "text": [
      "\r"
     ]
    },
    {
     "name": "stdout",
     "output_type": "stream",
     "text": [
      "Epoch 19/35, Valid Loss: 1.2205, Valid Acc: 0.6391\n"
     ]
    },
    {
     "name": "stderr",
     "output_type": "stream",
     "text": [
      "                                                                                       "
     ]
    },
    {
     "name": "stdout",
     "output_type": "stream",
     "text": [
      "Epoch 20/35, Train Loss: 1.0953, Train Acc: 0.6854\n"
     ]
    },
    {
     "name": "stderr",
     "output_type": "stream",
     "text": [
      "\r"
     ]
    },
    {
     "name": "stdout",
     "output_type": "stream",
     "text": [
      "Epoch 20/35, Valid Loss: 1.2115, Valid Acc: 0.6326\n"
     ]
    },
    {
     "name": "stderr",
     "output_type": "stream",
     "text": [
      "                                                                                       "
     ]
    },
    {
     "name": "stdout",
     "output_type": "stream",
     "text": [
      "Epoch 21/35, Train Loss: 1.1029, Train Acc: 0.6885\n"
     ]
    },
    {
     "name": "stderr",
     "output_type": "stream",
     "text": [
      "\r"
     ]
    },
    {
     "name": "stdout",
     "output_type": "stream",
     "text": [
      "Epoch 21/35, Valid Loss: 1.2250, Valid Acc: 0.6496\n"
     ]
    },
    {
     "name": "stderr",
     "output_type": "stream",
     "text": [
      "                                                                                       "
     ]
    },
    {
     "name": "stdout",
     "output_type": "stream",
     "text": [
      "Epoch 22/35, Train Loss: 1.0544, Train Acc: 0.7039\n"
     ]
    },
    {
     "name": "stderr",
     "output_type": "stream",
     "text": [
      "\r"
     ]
    },
    {
     "name": "stdout",
     "output_type": "stream",
     "text": [
      "Epoch 22/35, Valid Loss: 1.2318, Valid Acc: 0.6192\n"
     ]
    },
    {
     "name": "stderr",
     "output_type": "stream",
     "text": [
      "                                                                                       "
     ]
    },
    {
     "name": "stdout",
     "output_type": "stream",
     "text": [
      "Epoch 23/35, Train Loss: 1.0431, Train Acc: 0.7111\n"
     ]
    },
    {
     "name": "stderr",
     "output_type": "stream",
     "text": [
      "\r"
     ]
    },
    {
     "name": "stdout",
     "output_type": "stream",
     "text": [
      "Epoch 23/35, Valid Loss: 1.2254, Valid Acc: 0.6529\n"
     ]
    },
    {
     "name": "stderr",
     "output_type": "stream",
     "text": [
      "                                                                                       "
     ]
    },
    {
     "name": "stdout",
     "output_type": "stream",
     "text": [
      "Epoch 24/35, Train Loss: 1.0393, Train Acc: 0.7098\n"
     ]
    },
    {
     "name": "stderr",
     "output_type": "stream",
     "text": [
      "\r"
     ]
    },
    {
     "name": "stdout",
     "output_type": "stream",
     "text": [
      "Epoch 24/35, Valid Loss: 1.2053, Valid Acc: 0.6522\n"
     ]
    },
    {
     "name": "stderr",
     "output_type": "stream",
     "text": [
      "                                                                                       \r"
     ]
    },
    {
     "name": "stdout",
     "output_type": "stream",
     "text": [
      "Epoch 25/35, Train Loss: 0.9811, Train Acc: 0.7345\n",
      "Epoch 25/35, Valid Loss: 1.2464, Valid Acc: 0.6581\n"
     ]
    },
    {
     "name": "stderr",
     "output_type": "stream",
     "text": [
      "                                                                                       \r"
     ]
    },
    {
     "name": "stdout",
     "output_type": "stream",
     "text": [
      "Epoch 26/35, Train Loss: 1.0077, Train Acc: 0.7275\n",
      "Epoch 26/35, Valid Loss: 1.1730, Valid Acc: 0.6717\n"
     ]
    },
    {
     "name": "stderr",
     "output_type": "stream",
     "text": [
      "                                                                                       \r"
     ]
    },
    {
     "name": "stdout",
     "output_type": "stream",
     "text": [
      "Epoch 27/35, Train Loss: 0.9576, Train Acc: 0.7373\n",
      "Epoch 27/35, Valid Loss: 1.1626, Valid Acc: 0.6678\n"
     ]
    },
    {
     "name": "stderr",
     "output_type": "stream",
     "text": [
      "                                                                                       "
     ]
    },
    {
     "name": "stdout",
     "output_type": "stream",
     "text": [
      "Epoch 28/35, Train Loss: 0.9630, Train Acc: 0.7442\n"
     ]
    },
    {
     "name": "stderr",
     "output_type": "stream",
     "text": [
      "\r"
     ]
    },
    {
     "name": "stdout",
     "output_type": "stream",
     "text": [
      "Epoch 28/35, Valid Loss: 1.1922, Valid Acc: 0.6587\n"
     ]
    },
    {
     "name": "stderr",
     "output_type": "stream",
     "text": [
      "                                                                                       "
     ]
    },
    {
     "name": "stdout",
     "output_type": "stream",
     "text": [
      "Epoch 29/35, Train Loss: 0.9327, Train Acc: 0.7590\n"
     ]
    },
    {
     "name": "stderr",
     "output_type": "stream",
     "text": [
      "\r"
     ]
    },
    {
     "name": "stdout",
     "output_type": "stream",
     "text": [
      "Epoch 29/35, Valid Loss: 1.2413, Valid Acc: 0.6561\n"
     ]
    },
    {
     "name": "stderr",
     "output_type": "stream",
     "text": [
      "                                                                                       "
     ]
    },
    {
     "name": "stdout",
     "output_type": "stream",
     "text": [
      "Epoch 30/35, Train Loss: 0.9458, Train Acc: 0.7537\n"
     ]
    },
    {
     "name": "stderr",
     "output_type": "stream",
     "text": [
      "\r"
     ]
    },
    {
     "name": "stdout",
     "output_type": "stream",
     "text": [
      "Epoch 30/35, Valid Loss: 1.1816, Valid Acc: 0.6674\n"
     ]
    },
    {
     "name": "stderr",
     "output_type": "stream",
     "text": [
      "                                                                                       "
     ]
    },
    {
     "name": "stdout",
     "output_type": "stream",
     "text": [
      "Epoch 31/35, Train Loss: 0.9067, Train Acc: 0.7661\n"
     ]
    },
    {
     "name": "stderr",
     "output_type": "stream",
     "text": [
      "\r"
     ]
    },
    {
     "name": "stdout",
     "output_type": "stream",
     "text": [
      "Epoch 31/35, Valid Loss: 1.2263, Valid Acc: 0.6501\n"
     ]
    },
    {
     "name": "stderr",
     "output_type": "stream",
     "text": [
      "                                                                                       \r"
     ]
    },
    {
     "name": "stdout",
     "output_type": "stream",
     "text": [
      "Epoch 32/35, Train Loss: 0.9031, Train Acc: 0.7728\n",
      "Epoch 32/35, Valid Loss: 1.2128, Valid Acc: 0.6512\n"
     ]
    },
    {
     "name": "stderr",
     "output_type": "stream",
     "text": [
      "                                                                                       "
     ]
    },
    {
     "name": "stdout",
     "output_type": "stream",
     "text": [
      "Epoch 33/35, Train Loss: 0.8739, Train Acc: 0.7814\n"
     ]
    },
    {
     "name": "stderr",
     "output_type": "stream",
     "text": [
      "\r"
     ]
    },
    {
     "name": "stdout",
     "output_type": "stream",
     "text": [
      "Epoch 33/35, Valid Loss: 1.2607, Valid Acc: 0.6629\n"
     ]
    },
    {
     "name": "stderr",
     "output_type": "stream",
     "text": [
      "                                                                                       "
     ]
    },
    {
     "name": "stdout",
     "output_type": "stream",
     "text": [
      "Epoch 34/35, Train Loss: 0.8053, Train Acc: 0.8184\n"
     ]
    },
    {
     "name": "stderr",
     "output_type": "stream",
     "text": [
      "\r"
     ]
    },
    {
     "name": "stdout",
     "output_type": "stream",
     "text": [
      "Epoch 34/35, Valid Loss: 1.1870, Valid Acc: 0.6860\n"
     ]
    },
    {
     "name": "stderr",
     "output_type": "stream",
     "text": [
      "                                                                                       "
     ]
    },
    {
     "name": "stdout",
     "output_type": "stream",
     "text": [
      "Epoch 35/35, Train Loss: 0.7895, Train Acc: 0.8236\n"
     ]
    },
    {
     "name": "stderr",
     "output_type": "stream",
     "text": [
      "\r"
     ]
    },
    {
     "name": "stdout",
     "output_type": "stream",
     "text": [
      "Epoch 35/35, Valid Loss: 1.2003, Valid Acc: 0.6773\n"
     ]
    },
    {
     "data": {
      "image/png": "[encoded data removed]",
      "text/plain": [
       "<Figure size 1000x500 with 1 Axes>"
      ]
     },
     "metadata": {},
     "output_type": "display_data"
    }
   ],
   "source": [
    "model = Autoencoder()\n",
    "model.load_state_dict(torch.load(pretrain_config.pretrain_model_path))\n",
    "finetune(model, finetune_train_loader, finetune_valid_loader, finetune_config)"
   ]
  },
  {
   "cell_type": "markdown",
   "metadata": {
    "id": "AKCNR59Qt_Yi"
   },
   "source": [
    "## Testing"
   ]
  },
  {
   "cell_type": "code",
   "execution_count": 86,
   "metadata": {
    "id": "Pmop57x0t_Yi"
   },
   "outputs": [],
   "source": [
    "test_dataset = ImageDataset(sorted(load_unlabelled('/docker_data/ysyang/ml/data/test'), key=lambda x: int(x.filename.split('/')[-1].split('.')[0])))\n",
    "test_loader = DataLoader(test_dataset, batch_size=finetune_config.batch_size, shuffle=False)\n",
    "\n",
    "model = Autoencoder()\n",
    "model.load_state_dict(torch.load('finetune_model.ckpt'))\n",
    "model = model.to(finetune_config.device).eval()\n",
    "\n",
    "# Generate predictions\n",
    "predictions = []\n",
    "with torch.no_grad():\n",
    "    for img in test_loader:\n",
    "        img = img.to(finetune_config.device)\n",
    "        _, y, _ = model(img)\n",
    "        predictions.append(y.argmax(dim=1).cpu().numpy())\n",
    "predictions = np.concatenate(predictions)\n",
    "\n",
    "# Save predictions\n",
    "with open('predict.csv', 'w', newline='') as csvfile:\n",
    "    writer = csv.writer(csvfile)\n",
    "    writer.writerow(['id', 'label'])\n",
    "    for id, r in enumerate(predictions):\n",
    "        writer.writerow([id, r])"
   ]
  },
  {
   "cell_type": "markdown",
   "metadata": {
    "id": "m5tSbWbrt_Yj"
   },
   "source": [
    "## Report"
   ]
  },
  {
   "cell_type": "markdown",
   "metadata": {
    "id": "hXF_l0sot_Yk"
   },
   "source": [
    "### Clustering\n",
    "<span style=\"color:orange\">(TODO: Implement the Equilibrium K-means algorithm)</span>\n",
    "ref: https://arxiv.org/pdf/2402.14490\n",
    "\n",
    "Distance between a data point $x_n$ and centroid $c_k$\n",
    "$$d_{ik} = \\frac{1}{2} \\| x_i - c_k \\|^2$$\n",
    "\n",
    "Equation 38: Weight calculation\n",
    "$$w_{kn}^{(\\tau)} = \\frac{e^{-\\alpha d_{kn}^{(\\tau)}}}{\\sum_{i=1}^K e^{-\\alpha d_{in}^{(\\tau)}}}\n",
    "\\left[ 1 - \\alpha \\left( d_{kn}^{(\\tau)} -\n",
    "\\frac{\\sum_{i=1}^K d_{in}^{(\\tau)} e^{-\\alpha d_{in}^{(\\tau)}}}{\\sum_{i=1}^K e^{-\\alpha d_{in}^{(\\tau)}}}\n",
    "\\right) \\right]$$\n",
    "\n",
    "Equation 39: Centroid update\n",
    "$$c_k^{(\\tau+1)} = \\frac{\\sum_{n=1}^N w_{kn}^{(\\tau)} x_n}{\\sum_{n=1}^N w_{kn}^{(\\tau)}}$$\n",
    "\n",
    "<img src=\"https://dt5vp8kor0orz.cloudfront.net/5fedcaeba7180898deb71d026db359b0a56af6b3/9-Figure4-1.png\" width=\"1000\"/>"
   ]
  },
  {
   "cell_type": "code",
   "execution_count": null,
   "metadata": {
    "id": "arCQ_B06t_Yk"
   },
   "outputs": [],
   "source": [
    "import numpy as np\n",
    "\n",
    "def equilibrium_k_means(X, k, alpha, n_iter):\n",
    "    centroids = initialize_centroids(X, k) # Initialize centroids\n",
    "    for _ in range(n_iter):\n",
    "        weights = Eq38_compute_weights(X, centroids, alpha)  # Compute weights\n",
    "        centroids = Eq39_update_centroids(X, weights)    # Update centroids\n",
    "    return centroids\n",
    "\n",
    "def initialize_centroids(X, k):\n",
    "    # Initialize centroids as random samples\n",
    "    return X[np.random.choice(X.shape[0], k, replace=False)]\n",
    "\n",
    "def Eq38_compute_weights(X, centroids, alpha):\n",
    "    #==== TODO: Compute the weights for each data point (refer to Eq. 38) ====#\n",
    "\n",
    "\n",
    "\n",
    "    #=========================================================================#\n",
    "    return weights\n",
    "\n",
    "def Eq39_update_centroids(X, weights):\n",
    "    #==== TODO: Update the centroids (refer to Eq. 39) ====#\n",
    "\n",
    "\n",
    "    #======================================================#\n",
    "    return centroids\n",
    "\n",
    "def select_clusters(weights):\n",
    "    return np.argmax(weights, axis=1)\n",
    "\n",
    "def plot_clusters(X, centroids, clustering, title='Equilibrium K-Means Clustering'):\n",
    "    plt.scatter(X[:,0], X[:,1], c=clustering, cmap='viridis')\n",
    "    plt.scatter(centroids[:,0], centroids[:,1], c='red', marker='x')\n",
    "    plt.xlabel('x1')\n",
    "    plt.ylabel('x2')\n",
    "    plt.title(title)\n",
    "    plt.show()\n",
    "\n",
    "# Example usage\n",
    "'''\n",
    "X1 = np.random.rand(100, 2) + np.array([[0.2,0.2]])\n",
    "X2 = np.random.rand(20, 2) + np.array([[0.2,1.6]])\n",
    "X3 = np.random.rand(80, 2) + np.array([[2.0,0.5]])\n",
    "X = np.concatenate([X1, X2, X3])\n",
    "\n",
    "k = 3  # Number of clusters\n",
    "alpha = 10  # Smoothing parameter\n",
    "n_iter = 50  # Number of iterations\n",
    "\n",
    "centroids = equilibrium_k_means(X, k, alpha, n_iter)\n",
    "print(\"Final centroids:\\n\", centroids)\n",
    "print(\"Real centroids:\\n\", np.array([np.mean(X1, axis=0), np.mean(X2, axis=0), np.mean(X3, axis=0)]))\n",
    "\n",
    "# Visualize the clustering - show the data points and the centroids\n",
    "clustering = select_clusters(Eq38_compute_weights(X, centroids, alpha))\n",
    "plot_clusters(X, centroids, clustering)'''"
   ]
  },
  {
   "cell_type": "markdown",
   "metadata": {
    "id": "Ohi17MWit_Yj"
   },
   "source": [
    "### t-SNE\n",
    "<span style=\"color:orange\">(TODO: Implement t-SNE)</span>"
   ]
  },
  {
   "cell_type": "code",
   "execution_count": null,
   "metadata": {
    "id": "zkVfADvFt_Yj"
   },
   "outputs": [],
   "source": [
    "import sklearn\n",
    "from sklearn import manifold\n",
    "\n",
    "def prune_dimension(X):\n",
    "    # args: X (n_samples, dim)\n",
    "    # ouput: Y (n_samples, 2)\n",
    "    # TODO: implement t-SNE\n",
    "\n",
    "    return X[:, :2]"
   ]
  },
  {
   "cell_type": "markdown",
   "metadata": {
    "id": "1Oik19Ovt_Yl"
   },
   "source": [
    "### Demo with validation set\n",
    "This section demonstrate the functionality of t-SNE and clustering with the finetuning validation set.\n",
    " - Use clustered label\n",
    " - Use ground truth label"
   ]
  },
  {
   "cell_type": "code",
   "execution_count": null,
   "metadata": {
    "id": "OZEovmJKVRTf"
   },
   "outputs": [],
   "source": [
    "import numpy as np\n",
    "\n",
    "# Generate X, label\n",
    "X, label = [], []\n",
    "with torch.no_grad():\n",
    "    for img, lab in finetune_valid_dataset:\n",
    "        _, probs, latent_embedding = model(img.unsqueeze(0).to(finetune_config.device))\n",
    "        X.append(latent_embedding.cpu().numpy())\n",
    "        label.append(lab)\n",
    "X, label = np.concatenate(X), np.array(label)\n",
    "\n",
    "# consider three classes\n",
    "cls1, cls2, cls3 = 2, 5, 8\n",
    "cls_idx = np.where((label==cls1) | (label==cls2) | (label==cls3))\n",
    "X = X[cls_idx]\n",
    "label = label[cls_idx]\n",
    "\n",
    "# Perform equilibrium k-means clustering\n",
    "k = 3\n",
    "alpha = 0.01\n",
    "n_iter = 50\n",
    "centroids = equilibrium_k_means(X, k, alpha, n_iter)\n",
    "clustering = select_clusters(Eq38_compute_weights(X, centroids, alpha))\n",
    "\n",
    "# t-SNE\n",
    "Y = prune_dimension(np.concatenate([X, centroids]))\n",
    "Y, centroids = Y[:-3], Y[-3:]\n",
    "\n",
    "# plot\n",
    "plot_clusters(Y, centroids, clustering)\n",
    "plot_clusters(Y, centroids, label, 'Labelled')"
   ]
  },
  {
   "cell_type": "markdown",
   "metadata": {
    "id": "EoBtWdQPt_Yl"
   },
   "source": [
    "### Anomaly detection\n",
    "This section demonstrate the usage of autoencoders for anomaly detection.\n",
    "\n",
    "We use the autoencoder to reconstruct an image of an unseen class."
   ]
  },
  {
   "cell_type": "code",
   "execution_count": null,
   "metadata": {
    "id": "LIDfnrP-r_ik"
   },
   "outputs": [],
   "source": [
    "# train on class 1 (cars)\n",
    "class1_dataset = ImageDataset(load_unlabelled('./data/dev/labelled/2/'))\n",
    "class1_loader = DataLoader(class1_dataset, batch_size=8, shuffle=True)\n",
    "model = Autoencoder()\n",
    "pretrain(model, class1_loader, None, Namespace(\n",
    "    device = 'cuda' if torch.cuda.is_available() else 'cpu',\n",
    "    lr = pretrain_config.lr,\n",
    "    weight_decay = 0,\n",
    "    noise_factor = 0,\n",
    "    pretrain_epochs = 50\n",
    "))"
   ]
  },
  {
   "cell_type": "code",
   "execution_count": null,
   "metadata": {
    "id": "RXqSSkgjt_Yl"
   },
   "outputs": [],
   "source": [
    "# Use the anomaly dataset and the pre-trained model to generate latent embeddings\n",
    "anomaly_dataset = ImageDataset(load_unlabelled('data/anomoly'), tfm=T.Compose([\n",
    "    T.Grayscale(num_output_channels=3),  # Convert grayscale to RGB by adding channels\n",
    "    T.ToTensor()\n",
    "]))\n",
    "anomaly_loader = DataLoader(anomaly_dataset, batch_size=pretrain_config.batch_size, shuffle=False)\n",
    "\n",
    "# compare losses\n",
    "anomaly_loss = []\n",
    "with torch.no_grad():\n",
    "    for image in anomaly_loader:\n",
    "        image = image.to(pretrain_config.device)\n",
    "        recon, _, _ = model(image)\n",
    "        loss = nn.MSELoss()(recon, image)\n",
    "        anomaly_loss.append(loss.item())\n",
    "anomaly_loss = sum(anomaly_loss) / len(anomaly_loss)\n",
    "print('Anomaly loss:', anomaly_loss)\n",
    "\n",
    "class1_loss = []\n",
    "with torch.no_grad():\n",
    "    for image in class1_loader:\n",
    "        image = image.to(pretrain_config.device)\n",
    "        recon, _, _ = model(image)\n",
    "        loss = nn.MSELoss()(recon, image)\n",
    "        class1_loss.append(loss.item())\n",
    "class1_loss = sum(class1_loss) / len(class1_loss)\n",
    "print('Normal loss :', class1_loss)\n",
    "\n",
    "# Show\n",
    "# 1. a pair of reconstructed image and original image for the anomaly class\n",
    "# 2. a pair of reconstructed image and original image for the normal class\n",
    "idx1, idx2 = 42, 10\n",
    "image1, image2 = anomaly_dataset[idx1], class1_dataset[idx2]\n",
    "model.eval()\n",
    "with torch.no_grad():\n",
    "    recon1 = model(image1.unsqueeze(0).to(pretrain_config.device))[0].cpu().numpy()\n",
    "    recon2 = model(image2.unsqueeze(0).to(pretrain_config.device))[0].cpu().numpy()\n",
    "\n",
    "# plot the 4 images\n",
    "fig, axs = plt.subplots(2, 2, figsize=(10,10))\n",
    "axs[0, 0].imshow(image1.numpy().transpose((1, 2, 0)))\n",
    "axs[0, 0].set_title('Anomaly Image')\n",
    "axs[0, 1].imshow(recon1.squeeze().transpose((1, 2, 0)))\n",
    "axs[0, 1].set_title('Reconstructed Anomaly Image')\n",
    "axs[1, 0].imshow(image2.numpy().transpose((1, 2, 0)))\n",
    "axs[1, 0].set_title('Normal Image')\n",
    "axs[1, 1].imshow(recon2.squeeze().transpose((1, 2, 0)))\n",
    "axs[1, 1].set_title('Reconstructed Normal Image')\n",
    "plt.show()"
   ]
  }
 ],
 "metadata": {
  "accelerator": "GPU",
  "colab": {
   "gpuType": "L4",
   "provenance": []
  },
  "kernelspec": {
   "display_name": ".venv",
   "language": "python",
   "name": "python3"
  },
  "language_info": {
   "codemirror_mode": {
    "name": "ipython",
    "version": 3
   },
   "file_extension": ".py",
   "mimetype": "text/x-python",
   "name": "python",
   "nbconvert_exporter": "python",
   "pygments_lexer": "ipython3",
   "version": "3.12.11"
  }
 },
 "nbformat": 4,
 "nbformat_minor": 0
}
